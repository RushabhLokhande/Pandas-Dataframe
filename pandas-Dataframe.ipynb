{
 "cells": [
  {
   "cell_type": "code",
   "execution_count": 1,
   "metadata": {},
   "outputs": [
    {
     "name": "stdout",
     "output_type": "stream",
     "text": [
      "Empty DataFrame\n",
      "Columns: []\n",
      "Index: []\n"
     ]
    }
   ],
   "source": [
    "#Empty Dataframe\n",
    "import pandas as pd\n",
    "df = pd.DataFrame()\n",
    "print (df)"
   ]
  },
  {
   "cell_type": "code",
   "execution_count": 2,
   "metadata": {},
   "outputs": [
    {
     "name": "stdout",
     "output_type": "stream",
     "text": [
      "    0\n",
      "0  10\n",
      "1  20\n",
      "2  30\n",
      "3  40\n",
      "4  50\n",
      "5  60\n"
     ]
    }
   ],
   "source": [
    "#Dataframe with List\n",
    "import pandas as pd\n",
    "i = [10,20,30,40,50,60]\n",
    "df = pd.DataFrame(i)\n",
    "print(df)"
   ]
  },
  {
   "cell_type": "code",
   "execution_count": 3,
   "metadata": {},
   "outputs": [
    {
     "name": "stdout",
     "output_type": "stream",
     "text": [
      "        0\n",
      "0  Item 1\n",
      "1  Item 2\n",
      "2  Item 3\n",
      "3  Item 4\n"
     ]
    }
   ],
   "source": [
    "#Dataframe with string values\n",
    "import pandas as pd\n",
    "i = [\"Item 1\", \"Item 2\", \"Item 3\", \"Item 4\"]\n",
    "df = pd.DataFrame(i)\n",
    "print(df)"
   ]
  },
  {
   "cell_type": "code",
   "execution_count": 4,
   "metadata": {},
   "outputs": [
    {
     "name": "stdout",
     "output_type": "stream",
     "text": [
      "        0\n",
      "0  Item 1\n",
      "1  Item 2\n",
      "2  Item 3\n",
      "3  Item 4\n",
      "4      10\n",
      "5      20\n",
      "6      30\n",
      "7   20.25\n"
     ]
    }
   ],
   "source": [
    "#Mix Values\n",
    "import pandas as pd\n",
    "i = [\"Item 1\", \"Item 2\", \"Item 3\", \"Item 4\", 10,20,30,20.25]\n",
    "df = pd.DataFrame(i)\n",
    "print(df)"
   ]
  },
  {
   "cell_type": "code",
   "execution_count": 5,
   "metadata": {},
   "outputs": [
    {
     "name": "stdout",
     "output_type": "stream",
     "text": [
      "   no    name\n",
      "0   1    john\n",
      "1   2    andy\n",
      "2   3  sandra\n"
     ]
    }
   ],
   "source": [
    "#Dataframe with Dict. values\n",
    "import pandas as pd\n",
    "i = {'no' :[1, 2, 3], 'name' :['john','andy','sandra',]}\n",
    "df = pd.DataFrame(i)\n",
    "print (df)"
   ]
  },
  {
   "cell_type": "code",
   "execution_count": 6,
   "metadata": {},
   "outputs": [
    {
     "name": "stdout",
     "output_type": "stream",
     "text": [
      "   no    name    city\n",
      "0   1    john    pune\n",
      "1   2    andy  mumbai\n",
      "2   3  sandra    pune\n",
      "3   4   jonny  mumbai\n"
     ]
    }
   ],
   "source": [
    "#Dictionary\n",
    "import pandas as pd\n",
    "i = {'no' :[1, 2, 3, 4],\n",
    "'name' :['john','andy','sandra', 'jonny'],\n",
    "'city': ['pune', 'mumbai', 'pune', 'mumbai']}\n",
    "df = pd.DataFrame(i)\n",
    "print (df)"
   ]
  },
  {
   "cell_type": "code",
   "execution_count": 7,
   "metadata": {},
   "outputs": [
    {
     "name": "stdout",
     "output_type": "stream",
     "text": [
      "   no\n",
      "a   1\n",
      "b   2\n",
      "c   3\n",
      "d   4\n",
      "e   5\n"
     ]
    }
   ],
   "source": [
    "#Dataframe with series\n",
    "import pandas as pd\n",
    "i = {'no' : pd.Series([1, 2, 3, 4, 5], index=['a', 'b', 'c', 'd', 'e'])}\n",
    "d1 = pd.DataFrame(i)\n",
    "print (d1)"
   ]
  },
  {
   "cell_type": "code",
   "execution_count": 8,
   "metadata": {},
   "outputs": [
    {
     "name": "stdout",
     "output_type": "stream",
     "text": [
      "     no  no1\n",
      "a   1.0  NaN\n",
      "a1  NaN  6.0\n",
      "b   2.0  NaN\n",
      "b1  NaN  7.0\n",
      "c   3.0  NaN\n",
      "c1  NaN  8.0\n"
     ]
    }
   ],
   "source": [
    "#2 Column\n",
    "import pandas as pd\n",
    "i = {'no' : pd.Series([1, 2, 3], index=['a', 'b', 'c']),\n",
    "'no1' : pd.Series([6, 7, 8], index=['a1', 'b1', 'c1'])\n",
    "}\n",
    "d1 = pd.DataFrame(i)\n",
    "print (d1)"
   ]
  },
  {
   "cell_type": "code",
   "execution_count": null,
   "metadata": {},
   "outputs": [],
   "source": []
  }
 ],
 "metadata": {
  "kernelspec": {
   "display_name": "Python 3",
   "language": "python",
   "name": "python3"
  },
  "language_info": {
   "codemirror_mode": {
    "name": "ipython",
    "version": 3
   },
   "file_extension": ".py",
   "mimetype": "text/x-python",
   "name": "python",
   "nbconvert_exporter": "python",
   "pygments_lexer": "ipython3",
   "version": "3.8.5"
  }
 },
 "nbformat": 4,
 "nbformat_minor": 4
}
